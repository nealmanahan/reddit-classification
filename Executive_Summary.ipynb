{
 "cells": [
  {
   "cell_type": "markdown",
   "metadata": {},
   "source": [
    "# Reddit Classification for Use in the Hip Hop and Country Music\n",
    "\n",
    "Reddit is one of the largest online discussion boards and social content aggregators in the world. It boasts an active user base of roughly 330 million users and over 1.2 million discussion topics, known as subreddits. Subbreddits discussing music and the various genres in popular music are some of the highest traffic topics on the site, yet the music industry does not have a plan as clearly defined to market and activate the sites millions of users as exists for other social networking sites. The challenge is to investigate different ways to target subreddit users and expose them to our clients' music.\n",
    "\n",
    "As the organization is aware, converting social media users to fans of an artist can be challenging on a number of levels. Marketing and rollout plans are commonly used to coordinate the release of new content and events and reach the target audience in person and online. Reddit provides a unique challenge in targeting the prospective audience due to the aggregation methods which allow users to \"Upvote\" and \"Downvote\" posts - effectively managing the content that other users view. In order to successfully navigate this landscape, there is a need to understand how the audience interacts with individual posts, and how posts are structured to achieve a strong Upvote-to-Downvote rotio.\n",
    "\n",
    "The data science team has analyzed more than 1900 posts on two subreddits to understand community interaction habits and what makes a post successful on the top charts of these communities. As our current clients are targeted towards country-pop and hip hop music, we examined the largest subreddits of these two genres - r/hiphopheads and r/country. Using machine learning and natural language processing of the text in individual post titles, we are confident we have some key learnings that can integrate well with our clients' future marketing plans and active reddit users of these two categories.\n",
    "\n",
    "The data science team was able to accurately predict what subbreddits a post from the r/hiphopheads and r/country subbredits belongs with 96% accuracy. This is relevant because of the variances between the two genres, how the communities interact, and the vocabularies used in the respective subreddits. We found that artist names were the most frequently used language in posts on both subreddits. While this could prove difficult for our model to classify whether an artist is country or hiphop, other words surrounding the artist names as well as interaction statistics helped our model qualify which subreddit a post belonged to. We found that on r/hiphopheads, users were more likely to upvote posts discussing \"fresh\" artist albums more often than songs, music videos, or tours, while on r/country, posts discussing songs and tours were among the most frequently upvoted and commented posts. Based on these findings, the team recommends targeting reddit users in the following ways: <br>\n",
    "- On r/hiphopheads, announce new albums and mixtapes on release day using the artists name, the album title, with the word FRESH included. Example: \"FRESH ALBUM KENDRICK LAMAR - *ALBUM NAME* (link to album using appropriate content provider - preferrably youtube, apple music, or spotify so source analytics can be tracked) <br><br>\n",
    "- On r/country, announce new singles on release day, leading up to a full album release. Example: \"New Chris Stapleton Song, *song name* ((link to album using appropriate content provider - preferrably youtube, apple music, or spotify so source analytics can be tracked)\n",
    "\n",
    "Another aspect we analyzed was sentiment and polarity of the language used in the post. We found that the overall polarity of the top posts in each subreddit was overwhelmingly neutral, an indictation that overt calls to action are not necessary on reddit. On r/hiphopheads, there was a slighlty larger span of polarity than r/country but the average for both subreddits sat right at 0.00 - indicating neutral polarity. The team recommends short, simple, declaritive sentences when crafting post titles. \n",
    "\n",
    "Attached you will find a notebook containing all the data, analysis, models, and visualizations used to reach these two conclusions. The data science team is confident that with this action plan added into an overall rollout campaign for our clients, the client and organization will see increased traffic to the content."
   ]
  }
 ],
 "metadata": {
  "kernelspec": {
   "display_name": "Python 3",
   "language": "python",
   "name": "python3"
  },
  "language_info": {
   "codemirror_mode": {
    "name": "ipython",
    "version": 3
   },
   "file_extension": ".py",
   "mimetype": "text/x-python",
   "name": "python",
   "nbconvert_exporter": "python",
   "pygments_lexer": "ipython3",
   "version": "3.7.1"
  }
 },
 "nbformat": 4,
 "nbformat_minor": 2
}
